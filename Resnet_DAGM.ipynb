{
  "nbformat": 4,
  "nbformat_minor": 0,
  "metadata": {
    "colab": {
      "name": "Resnet_DAGM.ipynb",
      "provenance": [],
      "collapsed_sections": []
    },
    "kernelspec": {
      "name": "python3",
      "display_name": "Python 3"
    },
    "language_info": {
      "name": "python"
    },
    "accelerator": "GPU"
  },
  "cells": [
    {
      "cell_type": "code",
      "source": [
        "from google.colab import drive\n",
        "drive.mount('/content/drive')"
      ],
      "metadata": {
        "colab": {
          "base_uri": "https://localhost:8080/"
        },
        "id": "4Xfw11C8CB_4",
        "outputId": "072b1be0-114b-4814-995c-c2e491ce7bae"
      },
      "execution_count": null,
      "outputs": [
        {
          "output_type": "stream",
          "name": "stdout",
          "text": [
            "Mounted at /content/drive\n"
          ]
        }
      ]
    },
    {
      "cell_type": "code",
      "source": [
        "cd drive"
      ],
      "metadata": {
        "colab": {
          "base_uri": "https://localhost:8080/"
        },
        "id": "2J74oiaWCTqI",
        "outputId": "69ef768c-8fe6-447c-aa07-0e261881d746"
      },
      "execution_count": null,
      "outputs": [
        {
          "output_type": "stream",
          "name": "stdout",
          "text": [
            "/content/drive\n"
          ]
        }
      ]
    },
    {
      "cell_type": "code",
      "source": [
        "cd MyDrive"
      ],
      "metadata": {
        "colab": {
          "base_uri": "https://localhost:8080/"
        },
        "id": "ovjjtcCqCVig",
        "outputId": "72949860-723a-40b0-9f63-e55c6c91b9fe"
      },
      "execution_count": null,
      "outputs": [
        {
          "output_type": "stream",
          "name": "stdout",
          "text": [
            "/content/drive/MyDrive\n"
          ]
        }
      ]
    },
    {
      "cell_type": "code",
      "source": [
        "cd Resnet50_DAGM/"
      ],
      "metadata": {
        "colab": {
          "base_uri": "https://localhost:8080/"
        },
        "id": "LU3-bzbbCYsb",
        "outputId": "0cf51c29-6db8-4677-f6aa-2a2b6a819074"
      },
      "execution_count": null,
      "outputs": [
        {
          "output_type": "stream",
          "name": "stdout",
          "text": [
            "/content/drive/MyDrive/Resnet50_DAGM\n"
          ]
        }
      ]
    },
    {
      "cell_type": "code",
      "source": [
        "ls"
      ],
      "metadata": {
        "colab": {
          "base_uri": "https://localhost:8080/"
        },
        "id": "sr3i6kqICdEa",
        "outputId": "97c2f6c5-886d-4599-96a6-eecab97780fb"
      },
      "execution_count": null,
      "outputs": [
        {
          "output_type": "stream",
          "name": "stdout",
          "text": [
            "autosklearn.py  \u001b[0m\u001b[01;34mdataset\u001b[0m/  LICENSE  main.py  README.md  split_train.py  utils.py\n"
          ]
        }
      ]
    },
    {
      "cell_type": "code",
      "source": [
        "pip install pretrainedmodels"
      ],
      "metadata": {
        "colab": {
          "base_uri": "https://localhost:8080/"
        },
        "id": "eYFWGV2PDuJI",
        "outputId": "e0c44bcc-f5a4-46aa-a317-4201db6c0264"
      },
      "execution_count": null,
      "outputs": [
        {
          "output_type": "stream",
          "name": "stdout",
          "text": [
            "Collecting pretrainedmodels\n",
            "  Downloading pretrainedmodels-0.7.4.tar.gz (58 kB)\n",
            "\u001b[?25l\r\u001b[K     |█████▋                          | 10 kB 16.4 MB/s eta 0:00:01\r\u001b[K     |███████████▏                    | 20 kB 21.2 MB/s eta 0:00:01\r\u001b[K     |████████████████▊               | 30 kB 10.8 MB/s eta 0:00:01\r\u001b[K     |██████████████████████▎         | 40 kB 8.5 MB/s eta 0:00:01\r\u001b[K     |███████████████████████████▉    | 51 kB 5.4 MB/s eta 0:00:01\r\u001b[K     |████████████████████████████████| 58 kB 3.1 MB/s \n",
            "\u001b[?25hRequirement already satisfied: torch in /usr/local/lib/python3.7/dist-packages (from pretrainedmodels) (1.10.0+cu111)\n",
            "Requirement already satisfied: torchvision in /usr/local/lib/python3.7/dist-packages (from pretrainedmodels) (0.11.1+cu111)\n",
            "Collecting munch\n",
            "  Downloading munch-2.5.0-py2.py3-none-any.whl (10 kB)\n",
            "Requirement already satisfied: tqdm in /usr/local/lib/python3.7/dist-packages (from pretrainedmodels) (4.63.0)\n",
            "Requirement already satisfied: six in /usr/local/lib/python3.7/dist-packages (from munch->pretrainedmodels) (1.15.0)\n",
            "Requirement already satisfied: typing-extensions in /usr/local/lib/python3.7/dist-packages (from torch->pretrainedmodels) (3.10.0.2)\n",
            "Requirement already satisfied: numpy in /usr/local/lib/python3.7/dist-packages (from torchvision->pretrainedmodels) (1.21.5)\n",
            "Requirement already satisfied: pillow!=8.3.0,>=5.3.0 in /usr/local/lib/python3.7/dist-packages (from torchvision->pretrainedmodels) (7.1.2)\n",
            "Building wheels for collected packages: pretrainedmodels\n",
            "  Building wheel for pretrainedmodels (setup.py) ... \u001b[?25l\u001b[?25hdone\n",
            "  Created wheel for pretrainedmodels: filename=pretrainedmodels-0.7.4-py3-none-any.whl size=60965 sha256=7cb729758497bd58831973365ab2d75a96d5c44f42acf40501249790adeae4bd\n",
            "  Stored in directory: /root/.cache/pip/wheels/ed/27/e8/9543d42de2740d3544db96aefef63bda3f2c1761b3334f4873\n",
            "Successfully built pretrainedmodels\n",
            "Installing collected packages: munch, pretrainedmodels\n",
            "Successfully installed munch-2.5.0 pretrainedmodels-0.7.4\n"
          ]
        }
      ]
    },
    {
      "cell_type": "code",
      "source": [
        "pip install autoPyTorch==0.0.2"
      ],
      "metadata": {
        "colab": {
          "base_uri": "https://localhost:8080/"
        },
        "id": "wZ7iP53lEMBJ",
        "outputId": "ab752120-9e5f-4de7-dbc2-2f76679bfc0a"
      },
      "execution_count": null,
      "outputs": [
        {
          "output_type": "stream",
          "name": "stdout",
          "text": [
            "Collecting autoPyTorch==0.0.2\n",
            "  Downloading autoPyTorch-0.0.2-py3-none-any.whl (312 kB)\n",
            "\u001b[?25l\r\u001b[K     |█                               | 10 kB 19.0 MB/s eta 0:00:01\r\u001b[K     |██                              | 20 kB 13.6 MB/s eta 0:00:01\r\u001b[K     |███▏                            | 30 kB 10.3 MB/s eta 0:00:01\r\u001b[K     |████▏                           | 40 kB 9.0 MB/s eta 0:00:01\r\u001b[K     |█████▎                          | 51 kB 4.7 MB/s eta 0:00:01\r\u001b[K     |██████▎                         | 61 kB 5.5 MB/s eta 0:00:01\r\u001b[K     |███████▍                        | 71 kB 5.8 MB/s eta 0:00:01\r\u001b[K     |████████▍                       | 81 kB 5.9 MB/s eta 0:00:01\r\u001b[K     |█████████▌                      | 92 kB 6.6 MB/s eta 0:00:01\r\u001b[K     |██████████▌                     | 102 kB 5.5 MB/s eta 0:00:01\r\u001b[K     |███████████▌                    | 112 kB 5.5 MB/s eta 0:00:01\r\u001b[K     |████████████▋                   | 122 kB 5.5 MB/s eta 0:00:01\r\u001b[K     |█████████████▋                  | 133 kB 5.5 MB/s eta 0:00:01\r\u001b[K     |██████████████▊                 | 143 kB 5.5 MB/s eta 0:00:01\r\u001b[K     |███████████████▊                | 153 kB 5.5 MB/s eta 0:00:01\r\u001b[K     |████████████████▉               | 163 kB 5.5 MB/s eta 0:00:01\r\u001b[K     |█████████████████▉              | 174 kB 5.5 MB/s eta 0:00:01\r\u001b[K     |███████████████████             | 184 kB 5.5 MB/s eta 0:00:01\r\u001b[K     |████████████████████            | 194 kB 5.5 MB/s eta 0:00:01\r\u001b[K     |█████████████████████           | 204 kB 5.5 MB/s eta 0:00:01\r\u001b[K     |██████████████████████          | 215 kB 5.5 MB/s eta 0:00:01\r\u001b[K     |███████████████████████         | 225 kB 5.5 MB/s eta 0:00:01\r\u001b[K     |████████████████████████▏       | 235 kB 5.5 MB/s eta 0:00:01\r\u001b[K     |█████████████████████████▏      | 245 kB 5.5 MB/s eta 0:00:01\r\u001b[K     |██████████████████████████▎     | 256 kB 5.5 MB/s eta 0:00:01\r\u001b[K     |███████████████████████████▎    | 266 kB 5.5 MB/s eta 0:00:01\r\u001b[K     |████████████████████████████▍   | 276 kB 5.5 MB/s eta 0:00:01\r\u001b[K     |█████████████████████████████▍  | 286 kB 5.5 MB/s eta 0:00:01\r\u001b[K     |██████████████████████████████▍ | 296 kB 5.5 MB/s eta 0:00:01\r\u001b[K     |███████████████████████████████▌| 307 kB 5.5 MB/s eta 0:00:01\r\u001b[K     |████████████████████████████████| 312 kB 5.5 MB/s \n",
            "\u001b[?25hCollecting netifaces\n",
            "  Downloading netifaces-0.11.0-cp37-cp37m-manylinux_2_5_x86_64.manylinux1_x86_64.whl (32 kB)\n",
            "Collecting ConfigSpace\n",
            "  Downloading ConfigSpace-0.5.0-cp37-cp37m-manylinux_2_17_x86_64.manylinux2014_x86_64.whl (4.7 MB)\n",
            "\u001b[K     |████████████████████████████████| 4.7 MB 39.6 MB/s \n",
            "\u001b[?25hCollecting hpbandster\n",
            "  Downloading hpbandster-0.7.4.tar.gz (51 kB)\n",
            "\u001b[K     |████████████████████████████████| 51 kB 106 kB/s \n",
            "\u001b[?25hCollecting openml\n",
            "  Downloading openml-0.12.2.tar.gz (119 kB)\n",
            "\u001b[K     |████████████████████████████████| 119 kB 40.2 MB/s \n",
            "\u001b[?25hRequirement already satisfied: numpy in /usr/local/lib/python3.7/dist-packages (from autoPyTorch==0.0.2) (1.21.5)\n",
            "Requirement already satisfied: scikit-learn>=0.20.0 in /usr/local/lib/python3.7/dist-packages (from autoPyTorch==0.0.2) (1.0.2)\n",
            "Requirement already satisfied: torchvision in /usr/local/lib/python3.7/dist-packages (from autoPyTorch==0.0.2) (0.11.1+cu111)\n",
            "Requirement already satisfied: imblearn in /usr/local/lib/python3.7/dist-packages (from autoPyTorch==0.0.2) (0.0)\n",
            "Requirement already satisfied: pandas in /usr/local/lib/python3.7/dist-packages (from autoPyTorch==0.0.2) (1.3.5)\n",
            "Requirement already satisfied: Cython in /usr/local/lib/python3.7/dist-packages (from autoPyTorch==0.0.2) (0.29.28)\n",
            "Requirement already satisfied: torch in /usr/local/lib/python3.7/dist-packages (from autoPyTorch==0.0.2) (1.10.0+cu111)\n",
            "Collecting pynisher\n",
            "  Downloading pynisher-0.6.4.tar.gz (11 kB)\n",
            "Collecting tensorboard-logger\n",
            "  Downloading tensorboard_logger-0.1.0-py2.py3-none-any.whl (17 kB)\n",
            "Requirement already satisfied: scipy in /usr/local/lib/python3.7/dist-packages (from autoPyTorch==0.0.2) (1.4.1)\n",
            "Requirement already satisfied: setuptools in /usr/local/lib/python3.7/dist-packages (from autoPyTorch==0.0.2) (57.4.0)\n",
            "Requirement already satisfied: statsmodels in /usr/local/lib/python3.7/dist-packages (from autoPyTorch==0.0.2) (0.10.2)\n",
            "Collecting fasteners\n",
            "  Downloading fasteners-0.17.3-py3-none-any.whl (18 kB)\n",
            "Requirement already satisfied: threadpoolctl>=2.0.0 in /usr/local/lib/python3.7/dist-packages (from scikit-learn>=0.20.0->autoPyTorch==0.0.2) (3.1.0)\n",
            "Requirement already satisfied: joblib>=0.11 in /usr/local/lib/python3.7/dist-packages (from scikit-learn>=0.20.0->autoPyTorch==0.0.2) (1.1.0)\n",
            "Requirement already satisfied: pyparsing in /usr/local/lib/python3.7/dist-packages (from ConfigSpace->autoPyTorch==0.0.2) (3.0.7)\n",
            "Collecting Pyro4\n",
            "  Downloading Pyro4-4.82-py2.py3-none-any.whl (89 kB)\n",
            "\u001b[K     |████████████████████████████████| 89 kB 8.6 MB/s \n",
            "\u001b[?25hCollecting serpent\n",
            "  Downloading serpent-1.40-py3-none-any.whl (9.6 kB)\n",
            "Requirement already satisfied: imbalanced-learn in /usr/local/lib/python3.7/dist-packages (from imblearn->autoPyTorch==0.0.2) (0.8.1)\n",
            "Collecting liac-arff>=2.4.0\n",
            "  Downloading liac-arff-2.5.0.tar.gz (13 kB)\n",
            "Collecting xmltodict\n",
            "  Downloading xmltodict-0.12.0-py2.py3-none-any.whl (9.2 kB)\n",
            "Requirement already satisfied: requests in /usr/local/lib/python3.7/dist-packages (from openml->autoPyTorch==0.0.2) (2.23.0)\n",
            "Requirement already satisfied: python-dateutil in /usr/local/lib/python3.7/dist-packages (from openml->autoPyTorch==0.0.2) (2.8.2)\n",
            "Collecting minio\n",
            "  Downloading minio-7.1.6-py3-none-any.whl (75 kB)\n",
            "\u001b[K     |████████████████████████████████| 75 kB 4.6 MB/s \n",
            "\u001b[?25hRequirement already satisfied: pyarrow in /usr/local/lib/python3.7/dist-packages (from openml->autoPyTorch==0.0.2) (6.0.1)\n",
            "Requirement already satisfied: pytz>=2017.3 in /usr/local/lib/python3.7/dist-packages (from pandas->autoPyTorch==0.0.2) (2018.9)\n",
            "Requirement already satisfied: six>=1.5 in /usr/local/lib/python3.7/dist-packages (from python-dateutil->openml->autoPyTorch==0.0.2) (1.15.0)\n",
            "Requirement already satisfied: certifi in /usr/local/lib/python3.7/dist-packages (from minio->openml->autoPyTorch==0.0.2) (2021.10.8)\n",
            "Requirement already satisfied: urllib3 in /usr/local/lib/python3.7/dist-packages (from minio->openml->autoPyTorch==0.0.2) (1.24.3)\n",
            "Requirement already satisfied: psutil in /usr/local/lib/python3.7/dist-packages (from pynisher->autoPyTorch==0.0.2) (5.4.8)\n",
            "Requirement already satisfied: chardet<4,>=3.0.2 in /usr/local/lib/python3.7/dist-packages (from requests->openml->autoPyTorch==0.0.2) (3.0.4)\n",
            "Requirement already satisfied: idna<3,>=2.5 in /usr/local/lib/python3.7/dist-packages (from requests->openml->autoPyTorch==0.0.2) (2.10)\n",
            "Requirement already satisfied: patsy>=0.4.0 in /usr/local/lib/python3.7/dist-packages (from statsmodels->autoPyTorch==0.0.2) (0.5.2)\n",
            "Requirement already satisfied: pillow>=4.1.1 in /usr/local/lib/python3.7/dist-packages (from tensorboard-logger->autoPyTorch==0.0.2) (7.1.2)\n",
            "Requirement already satisfied: protobuf in /usr/local/lib/python3.7/dist-packages (from tensorboard-logger->autoPyTorch==0.0.2) (3.17.3)\n",
            "Requirement already satisfied: typing-extensions in /usr/local/lib/python3.7/dist-packages (from torch->autoPyTorch==0.0.2) (3.10.0.2)\n",
            "Building wheels for collected packages: hpbandster, openml, liac-arff, pynisher\n",
            "  Building wheel for hpbandster (setup.py) ... \u001b[?25l\u001b[?25hdone\n",
            "  Created wheel for hpbandster: filename=hpbandster-0.7.4-py3-none-any.whl size=80006 sha256=f1152882ec88056a386e3db231dd08e6265162ca11bae6c80672a14e7dd1fd00\n",
            "  Stored in directory: /root/.cache/pip/wheels/d9/88/fc/61ab6b9f386a386839668631c39a6dc3c2fb0ec7000d552faa\n",
            "  Building wheel for openml (setup.py) ... \u001b[?25l\u001b[?25hdone\n",
            "  Created wheel for openml: filename=openml-0.12.2-py3-none-any.whl size=137326 sha256=b24f668fa16f3badac22f37b29144cc11db3a362dde6692835da1e5595c080da\n",
            "  Stored in directory: /root/.cache/pip/wheels/6a/20/88/cf4ac86aa18e2cd647ed16ebe274a5dacee9d0075fa02af250\n",
            "  Building wheel for liac-arff (setup.py) ... \u001b[?25l\u001b[?25hdone\n",
            "  Created wheel for liac-arff: filename=liac_arff-2.5.0-py3-none-any.whl size=11732 sha256=75ebe64ace57c979ec6ef59f25461ec444160d2c2ea77960347f19d9a4d5aad2\n",
            "  Stored in directory: /root/.cache/pip/wheels/1f/0f/15/332ca86cbebf25ddf98518caaf887945fbe1712b97a0f2493b\n",
            "  Building wheel for pynisher (setup.py) ... \u001b[?25l\u001b[?25hdone\n",
            "  Created wheel for pynisher: filename=pynisher-0.6.4-py3-none-any.whl size=7043 sha256=e4395030b1212cd2c8fbaf6e40429cf10cf6b014e6eff445138b2b786abe4764\n",
            "  Stored in directory: /root/.cache/pip/wheels/42/71/95/7555ec3253e1ba8add72ae5febf1b015d297f3b73ba296d6f6\n",
            "Successfully built hpbandster openml liac-arff pynisher\n",
            "Installing collected packages: serpent, xmltodict, Pyro4, netifaces, minio, liac-arff, ConfigSpace, tensorboard-logger, pynisher, openml, hpbandster, fasteners, autoPyTorch\n",
            "Successfully installed ConfigSpace-0.5.0 Pyro4-4.82 autoPyTorch-0.0.2 fasteners-0.17.3 hpbandster-0.7.4 liac-arff-2.5.0 minio-7.1.6 netifaces-0.11.0 openml-0.12.2 pynisher-0.6.4 serpent-1.40 tensorboard-logger-0.1.0 xmltodict-0.12.0\n"
          ]
        }
      ]
    },
    {
      "cell_type": "code",
      "source": [
        "pip install h2o"
      ],
      "metadata": {
        "colab": {
          "base_uri": "https://localhost:8080/"
        },
        "id": "SoFdamdIH9uz",
        "outputId": "088275e2-4b0b-4383-c361-0b80875bbae4"
      },
      "execution_count": null,
      "outputs": [
        {
          "output_type": "stream",
          "name": "stdout",
          "text": [
            "Collecting h2o\n",
            "  Downloading h2o-3.36.0.4.tar.gz (176.2 MB)\n",
            "\u001b[K     |████████████████████████████████| 176.2 MB 2.0 kB/s \n",
            "\u001b[?25hRequirement already satisfied: requests in /usr/local/lib/python3.7/dist-packages (from h2o) (2.23.0)\n",
            "Requirement already satisfied: tabulate in /usr/local/lib/python3.7/dist-packages (from h2o) (0.8.9)\n",
            "Requirement already satisfied: future in /usr/local/lib/python3.7/dist-packages (from h2o) (0.16.0)\n",
            "Requirement already satisfied: chardet<4,>=3.0.2 in /usr/local/lib/python3.7/dist-packages (from requests->h2o) (3.0.4)\n",
            "Requirement already satisfied: certifi>=2017.4.17 in /usr/local/lib/python3.7/dist-packages (from requests->h2o) (2021.10.8)\n",
            "Requirement already satisfied: urllib3!=1.25.0,!=1.25.1,<1.26,>=1.21.1 in /usr/local/lib/python3.7/dist-packages (from requests->h2o) (1.24.3)\n",
            "Requirement already satisfied: idna<3,>=2.5 in /usr/local/lib/python3.7/dist-packages (from requests->h2o) (2.10)\n",
            "Building wheels for collected packages: h2o\n",
            "  Building wheel for h2o (setup.py) ... \u001b[?25l\u001b[?25hdone\n",
            "  Created wheel for h2o: filename=h2o-3.36.0.4-py2.py3-none-any.whl size=176245474 sha256=b9c297a47a155b0e8e86deeeca8ee5034917741e372b6aec33db62ddfa3afd00\n",
            "  Stored in directory: /root/.cache/pip/wheels/66/7c/3b/6558f625a9415a96f7f650d33f1def07b6e30b0c871e8407a1\n",
            "Successfully built h2o\n",
            "Installing collected packages: h2o\n",
            "Successfully installed h2o-3.36.0.4\n"
          ]
        }
      ]
    },
    {
      "cell_type": "code",
      "source": [
        "!python main.py"
      ],
      "metadata": {
        "colab": {
          "base_uri": "https://localhost:8080/"
        },
        "id": "Z2xfPAbqCeD3",
        "outputId": "54509948-8e97-4ad5-8973-21896c4a9f6b"
      },
      "execution_count": null,
      "outputs": [
        {
          "output_type": "stream",
          "name": "stdout",
          "text": [
            "/usr/local/lib/python3.7/dist-packages/statsmodels/tools/_testing.py:19: FutureWarning: pandas.util.testing is deprecated. Use the functions in the public API at pandas.testing instead.\n",
            "  import pandas.util.testing as tm\n",
            "Downloading: \"https://download.pytorch.org/models/vgg16-397923af.pth\" to /root/.cache/torch/hub/checkpoints/vgg16-397923af.pth\n",
            "100% 528M/528M [00:03<00:00, 152MB/s]\n",
            "[Starting Problem 1 ...]\n",
            "[Creating the model ...]\n",
            "resnet50\n",
            "Downloading: \"https://download.pytorch.org/models/resnet50-0676ba61.pth\" to /root/.cache/torch/hub/checkpoints/resnet50-0676ba61.pth\n",
            "100% 97.8M/97.8M [00:00<00:00, 136MB/s]\n",
            "/usr/local/lib/python3.7/dist-packages/torch/utils/data/dataloader.py:481: UserWarning: This DataLoader will create 4 worker processes in total. Our suggested max number of worker in current system is 2, which is smaller than what this DataLoader is going to create. Please be aware that excessive worker creation might get DataLoader running slow or even freeze, lower the worker number to avoid potential slowness/freeze if necessary.\n",
            "  cpuset_checked))\n",
            "### Start Training [...] ###\n",
            "Epoch 0 - Train Accuracy: 88.32298136645963,    Loss: 0.33976896285825636\n",
            "Epoch 0 - Val Accuracy: 98.25581395348837,    Loss: 0.13242504000663757\n",
            "Epoch 1 - Train Accuracy: 98.63354037267081,    Loss: 0.06288437811160309\n",
            "Epoch 1 - Val Accuracy: 99.4186046511628,    Loss: 0.0318148136138916\n",
            "Epoch 2 - Train Accuracy: 99.5031055900621,    Loss: 0.021492081553738863\n",
            "Epoch 2 - Val Accuracy: 100.0,    Loss: 0.030383452773094177\n",
            "Epoch 3 - Train Accuracy: 100.0,    Loss: 0.006889878431774722\n",
            "Epoch 3 - Val Accuracy: 100.0,    Loss: 0.013441832736134529\n",
            "Epoch 4 - Train Accuracy: 99.62732919254658,    Loss: 0.00943128498595046\n",
            "Epoch 4 - Val Accuracy: 98.83720930232558,    Loss: 0.06346524506807327\n",
            "Epoch 5 - Train Accuracy: 100.0,    Loss: 0.0062027313679988896\n",
            "Epoch 5 - Val Accuracy: 100.0,    Loss: 0.022778458893299103\n",
            "Epoch 6 - Train Accuracy: 100.0,    Loss: 0.003665190365929041\n",
            "Epoch 6 - Val Accuracy: 100.0,    Loss: 0.006951421964913607\n",
            "Epoch 7 - Train Accuracy: 100.0,    Loss: 0.002852469099026104\n",
            "Epoch 7 - Val Accuracy: 100.0,    Loss: 0.006743794772773981\n",
            "Epoch 8 - Train Accuracy: 100.0,    Loss: 0.0028814652463224548\n",
            "Epoch 8 - Val Accuracy: 100.0,    Loss: 0.003244054736569524\n",
            "Epoch 9 - Train Accuracy: 100.0,    Loss: 0.0028103066573602073\n",
            "Epoch 9 - Val Accuracy: 100.0,    Loss: 0.010304621420800686\n",
            "### Test metrics ###\n",
            "Best Val Accuracy:100.0\n",
            "Accuracy: 100.0\n",
            "AUC-ROC: 1.0\n",
            "Confusion Matrix:\n",
            "[[147   0]\n",
            " [  0  26]]\n",
            "Recall: 1.0\n",
            "Precision: 1.0\n",
            "### Time Metrics ###\n",
            "Time to train: 1317.1238894462585\n",
            "Inference Time Mean: 0.5620936399156397, STD:0.24383179598860039\n",
            "[Starting Problem 2 ...]\n",
            "[Creating the model ...]\n",
            "resnet50\n",
            "/usr/local/lib/python3.7/dist-packages/torch/utils/data/dataloader.py:481: UserWarning: This DataLoader will create 4 worker processes in total. Our suggested max number of worker in current system is 2, which is smaller than what this DataLoader is going to create. Please be aware that excessive worker creation might get DataLoader running slow or even freeze, lower the worker number to avoid potential slowness/freeze if necessary.\n",
            "  cpuset_checked))\n",
            "### Start Training [...] ###\n",
            "Epoch 0 - Train Accuracy: 87.20496894409938,    Loss: 0.4258043404228939\n",
            "Epoch 0 - Val Accuracy: 87.79069767441861,    Loss: 0.7479735612869263\n",
            "Epoch 1 - Train Accuracy: 89.8136645962733,    Loss: 0.29432888547456043\n",
            "Epoch 1 - Val Accuracy: 98.83720930232558,    Loss: 0.06822416931390762\n",
            "Epoch 2 - Train Accuracy: 97.88819875776397,    Loss: 0.06902266920006238\n",
            "Epoch 2 - Val Accuracy: 100.0,    Loss: 0.002635089447721839\n",
            "Epoch 3 - Train Accuracy: 99.87577639751552,    Loss: 0.018690122633894777\n",
            "Epoch 3 - Val Accuracy: 100.0,    Loss: 0.002312957774847746\n",
            "Epoch 4 - Train Accuracy: 99.5031055900621,    Loss: 0.01978427083376124\n",
            "Epoch 4 - Val Accuracy: 100.0,    Loss: 0.001430334523320198\n",
            "Epoch 5 - Train Accuracy: 99.37888198757764,    Loss: 0.017374509479344376\n",
            "Epoch 5 - Val Accuracy: 100.0,    Loss: 0.0011549731716513634\n",
            "Epoch 6 - Train Accuracy: 99.87577639751552,    Loss: 0.00853360967207353\n",
            "Epoch 6 - Val Accuracy: 100.0,    Loss: 0.0015974327689036727\n",
            "Epoch 7 - Train Accuracy: 100.0,    Loss: 0.004538865632851903\n",
            "Epoch 7 - Val Accuracy: 100.0,    Loss: 0.000481912778923288\n",
            "Epoch 8 - Train Accuracy: 100.0,    Loss: 0.007062557194185275\n",
            "Epoch 8 - Val Accuracy: 100.0,    Loss: 0.006199084222316742\n",
            "Epoch 9 - Train Accuracy: 99.62732919254658,    Loss: 0.010525413456529102\n",
            "Epoch 9 - Val Accuracy: 100.0,    Loss: 0.0010248760227113962\n",
            "### Test metrics ###\n",
            "Best Val Accuracy:100.0\n",
            "Accuracy: 100.0\n",
            "AUC-ROC: 1.0\n",
            "Confusion Matrix:\n",
            "[[147   0]\n",
            " [  0  26]]\n",
            "Recall: 1.0\n",
            "Precision: 1.0\n",
            "### Time Metrics ###\n",
            "Time to train: 1316.0228612422943\n",
            "Inference Time Mean: 0.5199793211438439, STD:0.24579370747109988\n",
            "[Starting Problem 3 ...]\n",
            "[Creating the model ...]\n",
            "resnet50\n",
            "/usr/local/lib/python3.7/dist-packages/torch/utils/data/dataloader.py:481: UserWarning: This DataLoader will create 4 worker processes in total. Our suggested max number of worker in current system is 2, which is smaller than what this DataLoader is going to create. Please be aware that excessive worker creation might get DataLoader running slow or even freeze, lower the worker number to avoid potential slowness/freeze if necessary.\n",
            "  cpuset_checked))\n",
            "### Start Training [...] ###\n",
            "Epoch 0 - Train Accuracy: 87.20496894409938,    Loss: 0.43002720831528957\n",
            "Epoch 0 - Val Accuracy: 87.79069767441861,    Loss: 0.6968935132026672\n",
            "Epoch 1 - Train Accuracy: 89.93788819875776,    Loss: 0.2787994721661443\n",
            "Epoch 1 - Val Accuracy: 99.4186046511628,    Loss: 0.23648571968078613\n",
            "Epoch 2 - Train Accuracy: 98.63354037267081,    Loss: 0.05926159793360633\n",
            "Epoch 2 - Val Accuracy: 100.0,    Loss: 0.007337190210819244\n",
            "Epoch 3 - Train Accuracy: 100.0,    Loss: 0.01380184297536656\n",
            "Epoch 3 - Val Accuracy: 100.0,    Loss: 0.0020515264477580786\n",
            "Epoch 4 - Train Accuracy: 99.75155279503106,    Loss: 0.017415251200208846\n",
            "Epoch 4 - Val Accuracy: 100.0,    Loss: 0.0024065880570560694\n",
            "Epoch 5 - Train Accuracy: 99.75155279503106,    Loss: 0.011619640291619306\n",
            "Epoch 5 - Val Accuracy: 100.0,    Loss: 0.0040990253910422325\n",
            "Epoch 6 - Train Accuracy: 100.0,    Loss: 0.004996576814721368\n",
            "Epoch 6 - Val Accuracy: 100.0,    Loss: 0.0011162202572450042\n",
            "Epoch 7 - Train Accuracy: 100.0,    Loss: 0.002424211513760112\n",
            "Epoch 7 - Val Accuracy: 100.0,    Loss: 0.003155746962875128\n",
            "Epoch 8 - Train Accuracy: 100.0,    Loss: 0.0035606675432786716\n",
            "Epoch 8 - Val Accuracy: 100.0,    Loss: 0.0005360153154470026\n",
            "Epoch 9 - Train Accuracy: 100.0,    Loss: 0.0027577665880299316\n",
            "Epoch 9 - Val Accuracy: 100.0,    Loss: 0.0006281405221670866\n",
            "### Test metrics ###\n",
            "Best Val Accuracy:100.0\n",
            "Accuracy: 100.0\n",
            "AUC-ROC: 1.0\n",
            "Confusion Matrix:\n",
            "[[147   0]\n",
            " [  0  26]]\n",
            "Recall: 1.0\n",
            "Precision: 1.0\n",
            "### Time Metrics ###\n",
            "Time to train: 1309.9402992725372\n",
            "Inference Time Mean: 0.5218976803801276, STD:0.24365098656754375\n",
            "[Starting Problem 4 ...]\n",
            "[Creating the model ...]\n",
            "resnet50\n",
            "/usr/local/lib/python3.7/dist-packages/torch/utils/data/dataloader.py:481: UserWarning: This DataLoader will create 4 worker processes in total. Our suggested max number of worker in current system is 2, which is smaller than what this DataLoader is going to create. Please be aware that excessive worker creation might get DataLoader running slow or even freeze, lower the worker number to avoid potential slowness/freeze if necessary.\n",
            "  cpuset_checked))\n",
            "### Start Training [...] ###\n",
            "Epoch 0 - Train Accuracy: 87.20496894409938,    Loss: 0.42499395265527395\n",
            "Epoch 0 - Val Accuracy: 87.79069767441861,    Loss: 0.580852210521698\n",
            "Epoch 1 - Train Accuracy: 89.19254658385093,    Loss: 0.2823945715190461\n",
            "Epoch 1 - Val Accuracy: 100.0,    Loss: 0.13719084858894348\n",
            "Epoch 2 - Train Accuracy: 97.63975155279503,    Loss: 0.07511286615908887\n",
            "Epoch 2 - Val Accuracy: 100.0,    Loss: 0.010208300314843655\n",
            "Epoch 3 - Train Accuracy: 99.37888198757764,    Loss: 0.029086490037926235\n",
            "Epoch 3 - Val Accuracy: 99.4186046511628,    Loss: 0.0011049244785681367\n",
            "Epoch 4 - Train Accuracy: 99.25465838509317,    Loss: 0.028768248700895435\n",
            "Epoch 4 - Val Accuracy: 100.0,    Loss: 0.007699977140873671\n",
            "Epoch 5 - Train Accuracy: 99.5031055900621,    Loss: 0.023195819397057806\n",
            "Epoch 5 - Val Accuracy: 100.0,    Loss: 0.001060992362909019\n",
            "Epoch 6 - Train Accuracy: 99.87577639751552,    Loss: 0.011699212785312756\n",
            "Epoch 6 - Val Accuracy: 100.0,    Loss: 0.0007486091926693916\n",
            "Epoch 7 - Train Accuracy: 100.0,    Loss: 0.00580188107289235\n",
            "Epoch 7 - Val Accuracy: 100.0,    Loss: 0.0005280172917991877\n",
            "Epoch 8 - Train Accuracy: 99.75155279503106,    Loss: 0.00954179321242184\n",
            "Epoch 8 - Val Accuracy: 100.0,    Loss: 0.0013613422634080052\n",
            "Epoch 9 - Train Accuracy: 99.75155279503106,    Loss: 0.011336354553259863\n",
            "Epoch 9 - Val Accuracy: 100.0,    Loss: 0.0005120339337736368\n",
            "### Test metrics ###\n",
            "Best Val Accuracy:100.0\n",
            "Accuracy: 100.0\n",
            "AUC-ROC: 1.0\n",
            "Confusion Matrix:\n",
            "[[147   0]\n",
            " [  0  26]]\n",
            "Recall: 1.0\n",
            "Precision: 1.0\n",
            "### Time Metrics ###\n",
            "Time to train: 1310.8549439907074\n",
            "Inference Time Mean: 0.5131508694453673, STD:0.24421696174541097\n",
            "[Starting Problem 5 ...]\n",
            "[Creating the model ...]\n",
            "resnet50\n",
            "/usr/local/lib/python3.7/dist-packages/torch/utils/data/dataloader.py:481: UserWarning: This DataLoader will create 4 worker processes in total. Our suggested max number of worker in current system is 2, which is smaller than what this DataLoader is going to create. Please be aware that excessive worker creation might get DataLoader running slow or even freeze, lower the worker number to avoid potential slowness/freeze if necessary.\n",
            "  cpuset_checked))\n",
            "### Start Training [...] ###\n",
            "Epoch 0 - Train Accuracy: 87.20496894409938,    Loss: 0.42121754808825734\n",
            "Epoch 0 - Val Accuracy: 87.79069767441861,    Loss: 0.7410221099853516\n",
            "Epoch 1 - Train Accuracy: 89.06832298136646,    Loss: 0.254400418097188\n",
            "Epoch 1 - Val Accuracy: 95.34883720930233,    Loss: 0.09668419510126114\n",
            "Epoch 2 - Train Accuracy: 99.25465838509317,    Loss: 0.048484651607848844\n",
            "Epoch 2 - Val Accuracy: 94.76744186046511,    Loss: 0.003555994015187025\n",
            "Epoch 3 - Train Accuracy: 100.0,    Loss: 0.008488587189974807\n",
            "Epoch 3 - Val Accuracy: 94.18604651162791,    Loss: 0.009691453538835049\n",
            "Epoch 4 - Train Accuracy: 99.87577639751552,    Loss: 0.005515008556558201\n",
            "Epoch 4 - Val Accuracy: 91.86046511627907,    Loss: 0.7486625909805298\n",
            "Epoch 5 - Train Accuracy: 100.0,    Loss: 0.003026235251982482\n",
            "Epoch 5 - Val Accuracy: 90.11627906976744,    Loss: 0.0018663352821022272\n",
            "Epoch 6 - Train Accuracy: 100.0,    Loss: 0.0017053590750506853\n",
            "Epoch 6 - Val Accuracy: 91.86046511627907,    Loss: 0.016398604959249496\n",
            "Epoch 7 - Train Accuracy: 100.0,    Loss: 0.0011190187787602406\n",
            "Epoch 7 - Val Accuracy: 93.02325581395348,    Loss: 0.4638834297657013\n",
            "Epoch 8 - Train Accuracy: 100.0,    Loss: 0.0011104741886472157\n",
            "Epoch 8 - Val Accuracy: 93.6046511627907,    Loss: 0.1953325867652893\n",
            "Epoch 9 - Train Accuracy: 100.0,    Loss: 0.001219795227935827\n",
            "Epoch 9 - Val Accuracy: 91.86046511627907,    Loss: 0.00636191526427865\n",
            "### Test metrics ###\n",
            "Best Val Accuracy:95.35\n",
            "Accuracy: 93.64\n",
            "AUC-ROC: 0.7884615384615384\n",
            "Confusion Matrix:\n",
            "[[147   0]\n",
            " [ 11  15]]\n",
            "Recall: 1.0\n",
            "Precision: 0.930379746835443\n",
            "### Time Metrics ###\n",
            "Time to train: 1322.3515515327454\n",
            "Inference Time Mean: 0.5200366933237422, STD:0.24632920025965588\n",
            "[Starting Problem 6 ...]\n",
            "[Creating the model ...]\n",
            "resnet50\n",
            "/usr/local/lib/python3.7/dist-packages/torch/utils/data/dataloader.py:481: UserWarning: This DataLoader will create 4 worker processes in total. Our suggested max number of worker in current system is 2, which is smaller than what this DataLoader is going to create. Please be aware that excessive worker creation might get DataLoader running slow or even freeze, lower the worker number to avoid potential slowness/freeze if necessary.\n",
            "  cpuset_checked))\n",
            "### Start Training [...] ###\n",
            "Epoch 0 - Train Accuracy: 89.93788819875776,    Loss: 0.3142156822711044\n",
            "Epoch 0 - Val Accuracy: 100.0,    Loss: 0.02149849385023117\n",
            "Epoch 1 - Train Accuracy: 98.26086956521739,    Loss: 0.05217238917530324\n",
            "Epoch 1 - Val Accuracy: 100.0,    Loss: 0.004970949608832598\n",
            "Epoch 2 - Train Accuracy: 99.75155279503106,    Loss: 0.01758286135606699\n",
            "Epoch 2 - Val Accuracy: 100.0,    Loss: 0.0014788437401875854\n",
            "Epoch 3 - Train Accuracy: 100.0,    Loss: 0.006810368370425292\n",
            "Epoch 3 - Val Accuracy: 100.0,    Loss: 0.000517976121045649\n",
            "Epoch 4 - Train Accuracy: 100.0,    Loss: 0.006146071784007392\n",
            "Epoch 4 - Val Accuracy: 100.0,    Loss: 0.00042917279643006623\n",
            "Epoch 5 - Train Accuracy: 99.75155279503106,    Loss: 0.007787706572287687\n",
            "Epoch 5 - Val Accuracy: 100.0,    Loss: 0.00019443563360255212\n",
            "Epoch 6 - Train Accuracy: 100.0,    Loss: 0.0037501547403159257\n",
            "Epoch 6 - Val Accuracy: 100.0,    Loss: 0.00011145185271743685\n",
            "Epoch 7 - Train Accuracy: 100.0,    Loss: 0.0022261797843158597\n",
            "Epoch 7 - Val Accuracy: 100.0,    Loss: 9.762400441104546e-05\n",
            "Epoch 8 - Train Accuracy: 100.0,    Loss: 0.0035103227558505277\n",
            "Epoch 8 - Val Accuracy: 100.0,    Loss: 0.00020238838624209166\n",
            "Epoch 9 - Train Accuracy: 100.0,    Loss: 0.0032385681646294683\n",
            "Epoch 9 - Val Accuracy: 100.0,    Loss: 8.788144623395056e-05\n",
            "### Test metrics ###\n",
            "Best Val Accuracy:100.0\n",
            "Accuracy: 98.27\n",
            "AUC-ROC: 0.9423076923076923\n",
            "Confusion Matrix:\n",
            "[[147   0]\n",
            " [  3  23]]\n",
            "Recall: 1.0\n",
            "Precision: 0.98\n",
            "### Time Metrics ###\n",
            "Time to train: 1321.165245294571\n",
            "Inference Time Mean: 0.5275903764096174, STD:0.2427596474806195\n"
          ]
        }
      ]
    },
    {
      "cell_type": "code",
      "source": [
        ""
      ],
      "metadata": {
        "id": "4hYgsfS-KUDj"
      },
      "execution_count": null,
      "outputs": []
    }
  ]
}